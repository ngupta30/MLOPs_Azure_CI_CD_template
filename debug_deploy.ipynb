{
  "cells": [
    {
      "cell_type": "code",
      "source": [
        "from azureml.core.workspace import Workspace\n",
        "from azureml.core.dataset import Dataset\n",
        "ws = Workspace.from_config()"
      ],
      "outputs": [],
      "execution_count": 1,
      "metadata": {},
      "id": "caac30c0-63b7-4193-8694-2806022dc3a7"
    },
    {
      "cell_type": "code",
      "source": [
        "ws"
      ],
      "outputs": [
        {
          "output_type": "execute_result",
          "execution_count": 2,
          "data": {
            "text/plain": "Workspace.create(name='titanic-aml-v1', subscription_id='ffe8e859-0cfb-4c23-8708-291600dadedf', resource_group='titanic-rg-v1')"
          },
          "metadata": {}
        }
      ],
      "execution_count": 2,
      "metadata": {},
      "id": "25c8aecf-88d4-4701-8705-ddbc613bbb19"
    },
    {
      "cell_type": "code",
      "source": [
        "# import required libraries\n",
        "from azure.ai.ml import MLClient\n",
        "from azure.ai.ml.entities import (\n",
        "    ManagedOnlineEndpoint,\n",
        "    ManagedOnlineDeployment,\n",
        "    Model,\n",
        "    Environment,\n",
        "    CodeConfiguration,\n",
        ")\n",
        "from azure.identity import DefaultAzureCredential"
      ],
      "outputs": [],
      "execution_count": 3,
      "metadata": {},
      "id": "3f7812b7-3da2-490a-b9e2-9d4781cffc65"
    },
    {
      "cell_type": "code",
      "source": [
        "# enter details of your AzureML workspace\n",
        "subscription_id = ws.subscription_id\n",
        "resource_group = ws.resource_group\n",
        "workspace = ws.name"
      ],
      "outputs": [],
      "execution_count": 4,
      "metadata": {},
      "id": "c7bb617b-0ea6-43f5-8537-deac40806fc3"
    },
    {
      "cell_type": "code",
      "source": [
        "# get a handle to the workspace\n",
        "ml_client = MLClient(\n",
        "    DefaultAzureCredential(), subscription_id, resource_group, workspace\n",
        ")"
      ],
      "outputs": [],
      "execution_count": 5,
      "metadata": {},
      "id": "3028f2c6-8a3a-4608-9cd8-85b96e917413"
    },
    {
      "cell_type": "code",
      "source": [
        "# Creating a local endpoint\n",
        "import datetime\n",
        "\n",
        "local_endpoint_name = \"local-\" + datetime.datetime.now().strftime(\"%m%d%H%M%f\")\n",
        "\n",
        "# create an online endpoint\n",
        "endpoint = ManagedOnlineEndpoint(\n",
        "  name=local_endpoint_name, description=\"this is a sample local endpoint\"\n",
        ")"
      ],
      "outputs": [],
      "execution_count": 6,
      "metadata": {},
      "id": "ce2c296e-e755-4836-906b-31395eda3bba"
    },
    {
      "cell_type": "code",
      "source": [
        "model = ws.models['titanic_model'] #Model(path=\"../model-1/model/sklearn_regression_model.pkl\")\n",
        "env = Environment(\n",
        "    conda_file=\"scoringConfig.yml\",\n",
        "    image=\"mcr.microsoft.com/azureml/openmpi4.1.0-ubuntu20.04:latest\",\n",
        ")\n",
        "\n",
        "local_endpoint_name = 'titanic_test'\n",
        "blue_deployment = ManagedOnlineDeployment(\n",
        "    name=\"blue\",\n",
        "    endpoint_name=local_endpoint_name,\n",
        "    model=model,\n",
        "    environment=env,\n",
        "    code_configuration=CodeConfiguration(\n",
        "         scoring_script=\"score.py\" #code=\"../model-1/onlinescoring\",\n",
        "    ),\n",
        "    instance_type=\"Standard_DS2_v2\",\n",
        "    instance_count=1,\n",
        ")"
      ],
      "outputs": [],
      "execution_count": 25,
      "metadata": {},
      "id": "7f17a3f7-6e60-4e5f-9eb3-3baf42087643"
    },
    {
      "cell_type": "code",
      "source": [
        "ml_client.online_endpoints.begin_create_or_update(endpoint, local=True)"
      ],
      "outputs": [
        {
          "output_type": "stream",
          "name": "stderr",
          "text": "Updating local endpoint (local-12191113726521) Done (0m 0s)\n"
        },
        {
          "output_type": "execute_result",
          "execution_count": 26,
          "data": {
            "text/plain": "ManagedOnlineEndpoint({'public_network_access': None, 'provisioning_state': None, 'scoring_uri': None, 'openapi_uri': None, 'name': 'local-12191113726521', 'description': 'this is a sample local endpoint', 'tags': {}, 'properties': {}, 'id': None, 'Resource__source_path': None, 'base_path': PosixPath('/home/azureuser/.azureml/inferencing/local-12191113726521'), 'creation_context': None, 'serialize': <msrest.serialization.Serializer object at 0x7f4b802429d0>, 'auth_mode': 'key', 'location': None, 'identity': None, 'traffic': {}, 'mirror_traffic': {}, 'kind': None})"
          },
          "metadata": {}
        }
      ],
      "execution_count": 26,
      "metadata": {},
      "id": "543f58d9-077a-4052-a3fd-80bc9fd7eb32"
    },
    {
      "cell_type": "code",
      "source": [
        "ml_client.online_deployments.begin_create_or_update(\n",
        "    deployment=blue_deployment, local=True\n",
        ")"
      ],
      "outputs": [
        {
          "output_type": "stream",
          "name": "stderr",
          "text": "Creating local deployment (titanic_test / blue) Done (0m 0s)\n"
        },
        {
          "output_type": "error",
          "ename": "RequiredLocalArtifactsNotFoundError",
          "evalue": "(\"Local endpoints only support local artifacts. '%s' did not contain required local artifact '%s' of type '%s'.\", 'Local deployment (titanic_test / blue)', 'code_configuration.code', \"<class 'str'>\")",
          "traceback": [
            "\u001b[0;31m---------------------------------------------------------------------------\u001b[0m",
            "\u001b[0;31mRequiredLocalArtifactsNotFoundError\u001b[0m       Traceback (most recent call last)",
            "Cell \u001b[0;32mIn [27], line 1\u001b[0m\n\u001b[0;32m----> 1\u001b[0m \u001b[43mml_client\u001b[49m\u001b[38;5;241;43m.\u001b[39;49m\u001b[43monline_deployments\u001b[49m\u001b[38;5;241;43m.\u001b[39;49m\u001b[43mbegin_create_or_update\u001b[49m\u001b[43m(\u001b[49m\n\u001b[1;32m      2\u001b[0m \u001b[43m    \u001b[49m\u001b[43mdeployment\u001b[49m\u001b[38;5;241;43m=\u001b[39;49m\u001b[43mblue_deployment\u001b[49m\u001b[43m,\u001b[49m\u001b[43m \u001b[49m\u001b[43mlocal\u001b[49m\u001b[38;5;241;43m=\u001b[39;49m\u001b[38;5;28;43;01mTrue\u001b[39;49;00m\n\u001b[1;32m      3\u001b[0m \u001b[43m)\u001b[49m\n",
            "File \u001b[0;32m/anaconda/envs/azureml_py38/lib/python3.8/site-packages/azure/core/tracing/decorator.py:78\u001b[0m, in \u001b[0;36mdistributed_trace.<locals>.decorator.<locals>.wrapper_use_tracer\u001b[0;34m(*args, **kwargs)\u001b[0m\n\u001b[1;32m     76\u001b[0m span_impl_type \u001b[38;5;241m=\u001b[39m settings\u001b[38;5;241m.\u001b[39mtracing_implementation()\n\u001b[1;32m     77\u001b[0m \u001b[38;5;28;01mif\u001b[39;00m span_impl_type \u001b[38;5;129;01mis\u001b[39;00m \u001b[38;5;28;01mNone\u001b[39;00m:\n\u001b[0;32m---> 78\u001b[0m     \u001b[38;5;28;01mreturn\u001b[39;00m \u001b[43mfunc\u001b[49m\u001b[43m(\u001b[49m\u001b[38;5;241;43m*\u001b[39;49m\u001b[43margs\u001b[49m\u001b[43m,\u001b[49m\u001b[43m \u001b[49m\u001b[38;5;241;43m*\u001b[39;49m\u001b[38;5;241;43m*\u001b[39;49m\u001b[43mkwargs\u001b[49m\u001b[43m)\u001b[49m\n\u001b[1;32m     80\u001b[0m \u001b[38;5;66;03m# Merge span is parameter is set, but only if no explicit parent are passed\u001b[39;00m\n\u001b[1;32m     81\u001b[0m \u001b[38;5;28;01mif\u001b[39;00m merge_span \u001b[38;5;129;01mand\u001b[39;00m \u001b[38;5;129;01mnot\u001b[39;00m passed_in_parent:\n",
            "File \u001b[0;32m/anaconda/envs/azureml_py38/lib/python3.8/site-packages/azure/ai/ml/operations/_online_deployment_operations.py:183\u001b[0m, in \u001b[0;36mOnlineDeploymentOperations.begin_create_or_update\u001b[0;34m(self, deployment, local, vscode_debug, skip_script_validation)\u001b[0m\n\u001b[1;32m    181\u001b[0m     log_and_raise_error(ex)\n\u001b[1;32m    182\u001b[0m \u001b[38;5;28;01melse\u001b[39;00m:\n\u001b[0;32m--> 183\u001b[0m     \u001b[38;5;28;01mraise\u001b[39;00m ex\n",
            "File \u001b[0;32m/anaconda/envs/azureml_py38/lib/python3.8/site-packages/azure/ai/ml/operations/_online_deployment_operations.py:124\u001b[0m, in \u001b[0;36mOnlineDeploymentOperations.begin_create_or_update\u001b[0;34m(self, deployment, local, vscode_debug, skip_script_validation)\u001b[0m\n\u001b[1;32m    120\u001b[0m     \u001b[38;5;28;01mraise\u001b[39;00m InvalidVSCodeRequestError(\n\u001b[1;32m    121\u001b[0m         msg\u001b[38;5;241m=\u001b[39m\u001b[38;5;124m\"\u001b[39m\u001b[38;5;124mVSCode Debug is only support for local endpoints. Please set local to True.\u001b[39m\u001b[38;5;124m\"\u001b[39m\n\u001b[1;32m    122\u001b[0m     )\n\u001b[1;32m    123\u001b[0m \u001b[38;5;28;01mif\u001b[39;00m local:\n\u001b[0;32m--> 124\u001b[0m     \u001b[38;5;28;01mreturn\u001b[39;00m \u001b[38;5;28;43mself\u001b[39;49m\u001b[38;5;241;43m.\u001b[39;49m\u001b[43m_local_deployment_helper\u001b[49m\u001b[38;5;241;43m.\u001b[39;49m\u001b[43mcreate_or_update\u001b[49m\u001b[43m(\u001b[49m\n\u001b[1;32m    125\u001b[0m \u001b[43m        \u001b[49m\u001b[43mdeployment\u001b[49m\u001b[38;5;241;43m=\u001b[39;49m\u001b[43mdeployment\u001b[49m\u001b[43m,\u001b[49m\n\u001b[1;32m    126\u001b[0m \u001b[43m        \u001b[49m\u001b[43mlocal_endpoint_mode\u001b[49m\u001b[38;5;241;43m=\u001b[39;49m\u001b[38;5;28;43mself\u001b[39;49m\u001b[38;5;241;43m.\u001b[39;49m\u001b[43m_get_local_endpoint_mode\u001b[49m\u001b[43m(\u001b[49m\u001b[43mvscode_debug\u001b[49m\u001b[43m)\u001b[49m\u001b[43m,\u001b[49m\n\u001b[1;32m    127\u001b[0m \u001b[43m    \u001b[49m\u001b[43m)\u001b[49m\n\u001b[1;32m    128\u001b[0m \u001b[38;5;28;01mif\u001b[39;00m (\n\u001b[1;32m    129\u001b[0m     \u001b[38;5;129;01mnot\u001b[39;00m skip_script_validation\n\u001b[1;32m    130\u001b[0m     \u001b[38;5;129;01mand\u001b[39;00m deployment\n\u001b[0;32m   (...)\u001b[0m\n\u001b[1;32m    133\u001b[0m     \u001b[38;5;129;01mand\u001b[39;00m \u001b[38;5;129;01mnot\u001b[39;00m re\u001b[38;5;241m.\u001b[39mmatch(AMLVersionedArmId\u001b[38;5;241m.\u001b[39mREGEX_PATTERN, deployment\u001b[38;5;241m.\u001b[39mcode_configuration\u001b[38;5;241m.\u001b[39mcode)\n\u001b[1;32m    134\u001b[0m ):\n\u001b[1;32m    135\u001b[0m     validate_scoring_script(deployment)\n",
            "File \u001b[0;32m/anaconda/envs/azureml_py38/lib/python3.8/site-packages/azure/ai/ml/operations/_local_deployment_helper.py:95\u001b[0m, in \u001b[0;36m_LocalDeploymentHelper.create_or_update\u001b[0;34m(self, deployment, local_endpoint_mode)\u001b[0m\n\u001b[1;32m     93\u001b[0m     log_and_raise_error(ex)\n\u001b[1;32m     94\u001b[0m \u001b[38;5;28;01melse\u001b[39;00m:\n\u001b[0;32m---> 95\u001b[0m     \u001b[38;5;28;01mraise\u001b[39;00m ex\n",
            "File \u001b[0;32m/anaconda/envs/azureml_py38/lib/python3.8/site-packages/azure/ai/ml/operations/_local_deployment_helper.py:81\u001b[0m, in \u001b[0;36m_LocalDeploymentHelper.create_or_update\u001b[0;34m(self, deployment, local_endpoint_mode)\u001b[0m\n\u001b[1;32m     75\u001b[0m     deployment_metadata \u001b[38;5;241m=\u001b[39m json\u001b[38;5;241m.\u001b[39mdumps(deployment\u001b[38;5;241m.\u001b[39m_to_dict())\n\u001b[1;32m     76\u001b[0m     endpoint_metadata \u001b[38;5;241m=\u001b[39m (\n\u001b[1;32m     77\u001b[0m         endpoint_metadata\n\u001b[1;32m     78\u001b[0m         \u001b[38;5;28;01mif\u001b[39;00m endpoint_metadata\n\u001b[1;32m     79\u001b[0m         \u001b[38;5;28;01melse\u001b[39;00m _get_stubbed_endpoint_metadata(endpoint_name\u001b[38;5;241m=\u001b[39mdeployment\u001b[38;5;241m.\u001b[39mendpoint_name)\n\u001b[1;32m     80\u001b[0m     )\n\u001b[0;32m---> 81\u001b[0m     \u001b[43mlocal_endpoint_polling_wrapper\u001b[49m\u001b[43m(\u001b[49m\n\u001b[1;32m     82\u001b[0m \u001b[43m        \u001b[49m\u001b[43mfunc\u001b[49m\u001b[38;5;241;43m=\u001b[39;49m\u001b[38;5;28;43mself\u001b[39;49m\u001b[38;5;241;43m.\u001b[39;49m\u001b[43m_create_deployment\u001b[49m\u001b[43m,\u001b[49m\n\u001b[1;32m     83\u001b[0m \u001b[43m        \u001b[49m\u001b[43mmessage\u001b[49m\u001b[38;5;241;43m=\u001b[39;49m\u001b[38;5;124;43mf\u001b[39;49m\u001b[38;5;124;43m\"\u001b[39;49m\u001b[38;5;132;43;01m{\u001b[39;49;00m\u001b[43moperation_message\u001b[49m\u001b[38;5;132;43;01m}\u001b[39;49;00m\u001b[38;5;124;43m (\u001b[39;49m\u001b[38;5;132;43;01m{\u001b[39;49;00m\u001b[43mdeployment\u001b[49m\u001b[38;5;241;43m.\u001b[39;49m\u001b[43mendpoint_name\u001b[49m\u001b[38;5;132;43;01m}\u001b[39;49;00m\u001b[38;5;124;43m / \u001b[39;49m\u001b[38;5;132;43;01m{\u001b[39;49;00m\u001b[43mdeployment\u001b[49m\u001b[38;5;241;43m.\u001b[39;49m\u001b[43mname\u001b[49m\u001b[38;5;132;43;01m}\u001b[39;49;00m\u001b[38;5;124;43m) \u001b[39;49m\u001b[38;5;124;43m\"\u001b[39;49m\u001b[43m,\u001b[49m\n\u001b[1;32m     84\u001b[0m \u001b[43m        \u001b[49m\u001b[43mendpoint_name\u001b[49m\u001b[38;5;241;43m=\u001b[39;49m\u001b[43mdeployment\u001b[49m\u001b[38;5;241;43m.\u001b[39;49m\u001b[43mendpoint_name\u001b[49m\u001b[43m,\u001b[49m\n\u001b[1;32m     85\u001b[0m \u001b[43m        \u001b[49m\u001b[43mdeployment\u001b[49m\u001b[38;5;241;43m=\u001b[39;49m\u001b[43mdeployment\u001b[49m\u001b[43m,\u001b[49m\n\u001b[1;32m     86\u001b[0m \u001b[43m        \u001b[49m\u001b[43mlocal_endpoint_mode\u001b[49m\u001b[38;5;241;43m=\u001b[39;49m\u001b[43mlocal_endpoint_mode\u001b[49m\u001b[43m,\u001b[49m\n\u001b[1;32m     87\u001b[0m \u001b[43m        \u001b[49m\u001b[43mendpoint_metadata\u001b[49m\u001b[38;5;241;43m=\u001b[39;49m\u001b[43mendpoint_metadata\u001b[49m\u001b[43m,\u001b[49m\n\u001b[1;32m     88\u001b[0m \u001b[43m        \u001b[49m\u001b[43mdeployment_metadata\u001b[49m\u001b[38;5;241;43m=\u001b[39;49m\u001b[43mdeployment_metadata\u001b[49m\u001b[43m,\u001b[49m\n\u001b[1;32m     89\u001b[0m \u001b[43m    \u001b[49m\u001b[43m)\u001b[49m\n\u001b[1;32m     90\u001b[0m     \u001b[38;5;28;01mreturn\u001b[39;00m \u001b[38;5;28mself\u001b[39m\u001b[38;5;241m.\u001b[39mget(endpoint_name\u001b[38;5;241m=\u001b[39mdeployment\u001b[38;5;241m.\u001b[39mendpoint_name, deployment_name\u001b[38;5;241m=\u001b[39mdeployment\u001b[38;5;241m.\u001b[39mname)\n\u001b[1;32m     91\u001b[0m \u001b[38;5;28;01mexcept\u001b[39;00m \u001b[38;5;167;01mException\u001b[39;00m \u001b[38;5;28;01mas\u001b[39;00m ex:  \u001b[38;5;66;03m# pylint: disable=broad-except\u001b[39;00m\n",
            "File \u001b[0;32m/anaconda/envs/azureml_py38/lib/python3.8/site-packages/azure/ai/ml/_utils/_endpoint_utils.py:99\u001b[0m, in \u001b[0;36mlocal_endpoint_polling_wrapper\u001b[0;34m(func, message, **kwargs)\u001b[0m\n\u001b[1;32m     97\u001b[0m event \u001b[38;5;241m=\u001b[39m pool\u001b[38;5;241m.\u001b[39msubmit(func, \u001b[38;5;241m*\u001b[39m\u001b[38;5;241m*\u001b[39mkwargs)\n\u001b[1;32m     98\u001b[0m polling_wait(poller\u001b[38;5;241m=\u001b[39mevent, start_time\u001b[38;5;241m=\u001b[39mstart_time, message\u001b[38;5;241m=\u001b[39mmessage, is_local\u001b[38;5;241m=\u001b[39m\u001b[38;5;28;01mTrue\u001b[39;00m)\n\u001b[0;32m---> 99\u001b[0m \u001b[38;5;28;01mreturn\u001b[39;00m \u001b[43mevent\u001b[49m\u001b[38;5;241;43m.\u001b[39;49m\u001b[43mresult\u001b[49m\u001b[43m(\u001b[49m\u001b[43m)\u001b[49m\n",
            "File \u001b[0;32m/anaconda/envs/azureml_py38/lib/python3.8/concurrent/futures/_base.py:432\u001b[0m, in \u001b[0;36mFuture.result\u001b[0;34m(self, timeout)\u001b[0m\n\u001b[1;32m    430\u001b[0m     \u001b[38;5;28;01mraise\u001b[39;00m CancelledError()\n\u001b[1;32m    431\u001b[0m \u001b[38;5;28;01melif\u001b[39;00m \u001b[38;5;28mself\u001b[39m\u001b[38;5;241m.\u001b[39m_state \u001b[38;5;241m==\u001b[39m FINISHED:\n\u001b[0;32m--> 432\u001b[0m     \u001b[38;5;28;01mreturn\u001b[39;00m \u001b[38;5;28;43mself\u001b[39;49m\u001b[38;5;241;43m.\u001b[39;49m\u001b[43m__get_result\u001b[49m\u001b[43m(\u001b[49m\u001b[43m)\u001b[49m\n\u001b[1;32m    434\u001b[0m \u001b[38;5;28mself\u001b[39m\u001b[38;5;241m.\u001b[39m_condition\u001b[38;5;241m.\u001b[39mwait(timeout)\n\u001b[1;32m    436\u001b[0m \u001b[38;5;28;01mif\u001b[39;00m \u001b[38;5;28mself\u001b[39m\u001b[38;5;241m.\u001b[39m_state \u001b[38;5;129;01min\u001b[39;00m [CANCELLED, CANCELLED_AND_NOTIFIED]:\n",
            "File \u001b[0;32m/anaconda/envs/azureml_py38/lib/python3.8/concurrent/futures/_base.py:388\u001b[0m, in \u001b[0;36mFuture.__get_result\u001b[0;34m(self)\u001b[0m\n\u001b[1;32m    386\u001b[0m \u001b[38;5;28;01mdef\u001b[39;00m \u001b[38;5;21m__get_result\u001b[39m(\u001b[38;5;28mself\u001b[39m):\n\u001b[1;32m    387\u001b[0m     \u001b[38;5;28;01mif\u001b[39;00m \u001b[38;5;28mself\u001b[39m\u001b[38;5;241m.\u001b[39m_exception:\n\u001b[0;32m--> 388\u001b[0m         \u001b[38;5;28;01mraise\u001b[39;00m \u001b[38;5;28mself\u001b[39m\u001b[38;5;241m.\u001b[39m_exception\n\u001b[1;32m    389\u001b[0m     \u001b[38;5;28;01melse\u001b[39;00m:\n\u001b[1;32m    390\u001b[0m         \u001b[38;5;28;01mreturn\u001b[39;00m \u001b[38;5;28mself\u001b[39m\u001b[38;5;241m.\u001b[39m_result\n",
            "File \u001b[0;32m/anaconda/envs/azureml_py38/lib/python3.8/concurrent/futures/thread.py:57\u001b[0m, in \u001b[0;36m_WorkItem.run\u001b[0;34m(self)\u001b[0m\n\u001b[1;32m     54\u001b[0m     \u001b[38;5;28;01mreturn\u001b[39;00m\n\u001b[1;32m     56\u001b[0m \u001b[38;5;28;01mtry\u001b[39;00m:\n\u001b[0;32m---> 57\u001b[0m     result \u001b[38;5;241m=\u001b[39m \u001b[38;5;28;43mself\u001b[39;49m\u001b[38;5;241;43m.\u001b[39;49m\u001b[43mfn\u001b[49m\u001b[43m(\u001b[49m\u001b[38;5;241;43m*\u001b[39;49m\u001b[38;5;28;43mself\u001b[39;49m\u001b[38;5;241;43m.\u001b[39;49m\u001b[43margs\u001b[49m\u001b[43m,\u001b[49m\u001b[43m \u001b[49m\u001b[38;5;241;43m*\u001b[39;49m\u001b[38;5;241;43m*\u001b[39;49m\u001b[38;5;28;43mself\u001b[39;49m\u001b[38;5;241;43m.\u001b[39;49m\u001b[43mkwargs\u001b[49m\u001b[43m)\u001b[49m\n\u001b[1;32m     58\u001b[0m \u001b[38;5;28;01mexcept\u001b[39;00m \u001b[38;5;167;01mBaseException\u001b[39;00m \u001b[38;5;28;01mas\u001b[39;00m exc:\n\u001b[1;32m     59\u001b[0m     \u001b[38;5;28mself\u001b[39m\u001b[38;5;241m.\u001b[39mfuture\u001b[38;5;241m.\u001b[39mset_exception(exc)\n",
            "File \u001b[0;32m/anaconda/envs/azureml_py38/lib/python3.8/site-packages/azure/ai/ml/operations/_local_deployment_helper.py:178\u001b[0m, in \u001b[0;36m_LocalDeploymentHelper._create_deployment\u001b[0;34m(self, endpoint_name, deployment, local_endpoint_mode, endpoint_metadata, deployment_metadata)\u001b[0m\n\u001b[1;32m    174\u001b[0m deployment_directory_path \u001b[38;5;241m=\u001b[39m \u001b[38;5;28mstr\u001b[39m(deployment_directory\u001b[38;5;241m.\u001b[39mresolve())\n\u001b[1;32m    176\u001b[0m \u001b[38;5;66;03m# Get assets for mounting into the container\u001b[39;00m\n\u001b[1;32m    177\u001b[0m \u001b[38;5;66;03m# If code_directory_path is None, consider NCD flow\u001b[39;00m\n\u001b[0;32m--> 178\u001b[0m code_directory_path \u001b[38;5;241m=\u001b[39m \u001b[43mget_code_configuration_artifacts\u001b[49m\u001b[43m(\u001b[49m\n\u001b[1;32m    179\u001b[0m \u001b[43m    \u001b[49m\u001b[43mendpoint_name\u001b[49m\u001b[38;5;241;43m=\u001b[39;49m\u001b[43mendpoint_name\u001b[49m\u001b[43m,\u001b[49m\n\u001b[1;32m    180\u001b[0m \u001b[43m    \u001b[49m\u001b[43mdeployment\u001b[49m\u001b[38;5;241;43m=\u001b[39;49m\u001b[43mdeployment\u001b[49m\u001b[43m,\u001b[49m\n\u001b[1;32m    181\u001b[0m \u001b[43m    \u001b[49m\u001b[43mcode_operations\u001b[49m\u001b[38;5;241;43m=\u001b[39;49m\u001b[38;5;28;43mself\u001b[39;49m\u001b[38;5;241;43m.\u001b[39;49m\u001b[43m_code_operations\u001b[49m\u001b[43m,\u001b[49m\n\u001b[1;32m    182\u001b[0m \u001b[43m    \u001b[49m\u001b[43mdownload_path\u001b[49m\u001b[38;5;241;43m=\u001b[39;49m\u001b[43mdeployment_directory_path\u001b[49m\u001b[43m,\u001b[49m\n\u001b[1;32m    183\u001b[0m \u001b[43m\u001b[49m\u001b[43m)\u001b[49m\n\u001b[1;32m    184\u001b[0m \u001b[38;5;66;03m# We always require the model, however it may be anonymous for local (model_name=None)\u001b[39;00m\n\u001b[1;32m    185\u001b[0m (model_name, model_version, model_directory_path,) \u001b[38;5;241m=\u001b[39m get_model_artifacts(\n\u001b[1;32m    186\u001b[0m     endpoint_name\u001b[38;5;241m=\u001b[39mendpoint_name,\n\u001b[1;32m    187\u001b[0m     deployment\u001b[38;5;241m=\u001b[39mdeployment,\n\u001b[1;32m    188\u001b[0m     model_operations\u001b[38;5;241m=\u001b[39m\u001b[38;5;28mself\u001b[39m\u001b[38;5;241m.\u001b[39m_model_operations,\n\u001b[1;32m    189\u001b[0m     download_path\u001b[38;5;241m=\u001b[39mdeployment_directory_path,\n\u001b[1;32m    190\u001b[0m )\n",
            "File \u001b[0;32m/anaconda/envs/azureml_py38/lib/python3.8/site-packages/azure/ai/ml/_local_endpoints/validators/code_validator.py:54\u001b[0m, in \u001b[0;36mget_code_configuration_artifacts\u001b[0;34m(endpoint_name, deployment, code_operations, download_path)\u001b[0m\n\u001b[1;32m     49\u001b[0m     \u001b[38;5;28;01mreturn\u001b[39;00m _get_cloud_code_configuration_artifacts(\n\u001b[1;32m     50\u001b[0m         deployment\u001b[38;5;241m.\u001b[39mcode_configuration\u001b[38;5;241m.\u001b[39mcode, code_operations, download_path\n\u001b[1;32m     51\u001b[0m     )\n\u001b[1;32m     53\u001b[0m \u001b[38;5;28;01mif\u001b[39;00m \u001b[38;5;129;01mnot\u001b[39;00m _local_code_path_is_valid(deployment\u001b[38;5;241m=\u001b[39mdeployment):\n\u001b[0;32m---> 54\u001b[0m     \u001b[38;5;28;01mraise\u001b[39;00m RequiredLocalArtifactsNotFoundError(\n\u001b[1;32m     55\u001b[0m         endpoint_name\u001b[38;5;241m=\u001b[39mendpoint_name,\n\u001b[1;32m     56\u001b[0m         required_artifact\u001b[38;5;241m=\u001b[39m\u001b[38;5;124m\"\u001b[39m\u001b[38;5;124mcode_configuration.code\u001b[39m\u001b[38;5;124m\"\u001b[39m,\n\u001b[1;32m     57\u001b[0m         required_artifact_type\u001b[38;5;241m=\u001b[39m\u001b[38;5;28mstr\u001b[39m(\u001b[38;5;28mstr\u001b[39m),\n\u001b[1;32m     58\u001b[0m         deployment_name\u001b[38;5;241m=\u001b[39mdeployment\u001b[38;5;241m.\u001b[39mname,\n\u001b[1;32m     59\u001b[0m     )\n\u001b[1;32m     60\u001b[0m \u001b[38;5;28;01mif\u001b[39;00m \u001b[38;5;129;01mnot\u001b[39;00m _local_scoring_script_is_valid(deployment\u001b[38;5;241m=\u001b[39mdeployment):\n\u001b[1;32m     61\u001b[0m     \u001b[38;5;28;01mraise\u001b[39;00m RequiredLocalArtifactsNotFoundError(\n\u001b[1;32m     62\u001b[0m         endpoint_name\u001b[38;5;241m=\u001b[39mendpoint_name,\n\u001b[1;32m     63\u001b[0m         required_artifact\u001b[38;5;241m=\u001b[39m\u001b[38;5;124m\"\u001b[39m\u001b[38;5;124mcode_configuration.scoring_script\u001b[39m\u001b[38;5;124m\"\u001b[39m,\n\u001b[1;32m     64\u001b[0m         required_artifact_type\u001b[38;5;241m=\u001b[39m\u001b[38;5;28mstr\u001b[39m(\u001b[38;5;28mstr\u001b[39m),\n\u001b[1;32m     65\u001b[0m         deployment_name\u001b[38;5;241m=\u001b[39mdeployment\u001b[38;5;241m.\u001b[39mname,\n\u001b[1;32m     66\u001b[0m     )\n",
            "\u001b[0;31mRequiredLocalArtifactsNotFoundError\u001b[0m: (\"Local endpoints only support local artifacts. '%s' did not contain required local artifact '%s' of type '%s'.\", 'Local deployment (titanic_test / blue)', 'code_configuration.code', \"<class 'str'>\")"
          ]
        }
      ],
      "execution_count": 27,
      "metadata": {
        "gather": {
          "logged": 1671478242231
        }
      },
      "id": "9771a203-0c4a-42b1-b138-3c011a1b7208"
    },
    {
      "cell_type": "code",
      "source": [
        "os.getenv(\"AZUREML_MODEL_DIR\")"
      ],
      "outputs": [],
      "execution_count": 28,
      "metadata": {},
      "id": "3ab37319-9999-4d34-9ebf-5424538e0b2d"
    },
    {
      "cell_type": "code",
      "source": [
        "os.path.join(\n",
        "        os.getenv(\"AZUREML_MODEL_DIR\"), \"model/titanic_model.pkl\"\n",
        "    )"
      ],
      "outputs": [
        {
          "output_type": "error",
          "ename": "TypeError",
          "evalue": "expected str, bytes or os.PathLike object, not NoneType",
          "traceback": [
            "\u001b[0;31m---------------------------------------------------------------------------\u001b[0m",
            "\u001b[0;31mTypeError\u001b[0m                                 Traceback (most recent call last)",
            "Cell \u001b[0;32mIn [14], line 1\u001b[0m\n\u001b[0;32m----> 1\u001b[0m \u001b[43mos\u001b[49m\u001b[38;5;241;43m.\u001b[39;49m\u001b[43mpath\u001b[49m\u001b[38;5;241;43m.\u001b[39;49m\u001b[43mjoin\u001b[49m\u001b[43m(\u001b[49m\n\u001b[1;32m      2\u001b[0m \u001b[43m        \u001b[49m\u001b[43mos\u001b[49m\u001b[38;5;241;43m.\u001b[39;49m\u001b[43mgetenv\u001b[49m\u001b[43m(\u001b[49m\u001b[38;5;124;43m\"\u001b[39;49m\u001b[38;5;124;43mAZUREML_MODEL_DIR\u001b[39;49m\u001b[38;5;124;43m\"\u001b[39;49m\u001b[43m)\u001b[49m\u001b[43m,\u001b[49m\u001b[43m \u001b[49m\u001b[38;5;124;43m\"\u001b[39;49m\u001b[38;5;124;43mmodel/titanic_model.pkl\u001b[39;49m\u001b[38;5;124;43m\"\u001b[39;49m\n\u001b[1;32m      3\u001b[0m \u001b[43m    \u001b[49m\u001b[43m)\u001b[49m\n",
            "File \u001b[0;32m/anaconda/envs/azureml_py38/lib/python3.8/posixpath.py:76\u001b[0m, in \u001b[0;36mjoin\u001b[0;34m(a, *p)\u001b[0m\n\u001b[1;32m     71\u001b[0m \u001b[38;5;28;01mdef\u001b[39;00m \u001b[38;5;21mjoin\u001b[39m(a, \u001b[38;5;241m*\u001b[39mp):\n\u001b[1;32m     72\u001b[0m     \u001b[38;5;124;03m\"\"\"Join two or more pathname components, inserting '/' as needed.\u001b[39;00m\n\u001b[1;32m     73\u001b[0m \u001b[38;5;124;03m    If any component is an absolute path, all previous path components\u001b[39;00m\n\u001b[1;32m     74\u001b[0m \u001b[38;5;124;03m    will be discarded.  An empty last part will result in a path that\u001b[39;00m\n\u001b[1;32m     75\u001b[0m \u001b[38;5;124;03m    ends with a separator.\"\"\"\u001b[39;00m\n\u001b[0;32m---> 76\u001b[0m     a \u001b[38;5;241m=\u001b[39m \u001b[43mos\u001b[49m\u001b[38;5;241;43m.\u001b[39;49m\u001b[43mfspath\u001b[49m\u001b[43m(\u001b[49m\u001b[43ma\u001b[49m\u001b[43m)\u001b[49m\n\u001b[1;32m     77\u001b[0m     sep \u001b[38;5;241m=\u001b[39m _get_sep(a)\n\u001b[1;32m     78\u001b[0m     path \u001b[38;5;241m=\u001b[39m a\n",
            "\u001b[0;31mTypeError\u001b[0m: expected str, bytes or os.PathLike object, not NoneType"
          ]
        }
      ],
      "execution_count": 14,
      "metadata": {
        "gather": {
          "logged": 1671478242527
        }
      },
      "id": "8514e768-de6b-438d-b4d6-2c7150544be2"
    },
    {
      "cell_type": "code",
      "source": [
        "ws.models"
      ],
      "outputs": [
        {
          "output_type": "execute_result",
          "execution_count": 15,
          "data": {
            "text/plain": "{'titanic_model': Model(workspace=Workspace.create(name='titanic-aml-v1', subscription_id='ffe8e859-0cfb-4c23-8708-291600dadedf', resource_group='titanic-rg-v1'), name=titanic_model, id=titanic_model:9, version=9, tags={'data': 'titanic', 'model': 'classification'}, properties={})}"
          },
          "metadata": {}
        }
      ],
      "execution_count": 15,
      "metadata": {},
      "id": "dbffb68c-fc3b-4bde-9246-f8e7b8bbb92e"
    },
    {
      "cell_type": "code",
      "source": [
        "ws."
      ],
      "outputs": [
        {
          "output_type": "execute_result",
          "execution_count": 17,
          "data": {
            "text/plain": "<bound method Workspace.get_details of Workspace.create(name='titanic-aml-v1', subscription_id='ffe8e859-0cfb-4c23-8708-291600dadedf', resource_group='titanic-rg-v1')>"
          },
          "metadata": {}
        }
      ],
      "execution_count": 17,
      "metadata": {},
      "id": "d8e35e88-4f74-4cb1-960d-4967fa67902a"
    },
    {
      "cell_type": "code",
      "source": [
        "from azureml.core import Model\n",
        "Model.list(ws)"
      ],
      "outputs": [
        {
          "output_type": "execute_result",
          "execution_count": 19,
          "data": {
            "text/plain": "[Model(workspace=Workspace.create(name='titanic-aml-v1', subscription_id='ffe8e859-0cfb-4c23-8708-291600dadedf', resource_group='titanic-rg-v1'), name=titanic_model, id=titanic_model:9, version=9, tags={'data': 'titanic', 'model': 'classification'}, properties={}),\n Model(workspace=Workspace.create(name='titanic-aml-v1', subscription_id='ffe8e859-0cfb-4c23-8708-291600dadedf', resource_group='titanic-rg-v1'), name=titanic_model, id=titanic_model:8, version=8, tags={'data': 'titanic', 'model': 'classification'}, properties={}),\n Model(workspace=Workspace.create(name='titanic-aml-v1', subscription_id='ffe8e859-0cfb-4c23-8708-291600dadedf', resource_group='titanic-rg-v1'), name=titanic_model, id=titanic_model:7, version=7, tags={'data': 'titanic', 'model': 'classification'}, properties={}),\n Model(workspace=Workspace.create(name='titanic-aml-v1', subscription_id='ffe8e859-0cfb-4c23-8708-291600dadedf', resource_group='titanic-rg-v1'), name=titanic_model, id=titanic_model:6, version=6, tags={'data': 'titanic', 'model': 'classification'}, properties={}),\n Model(workspace=Workspace.create(name='titanic-aml-v1', subscription_id='ffe8e859-0cfb-4c23-8708-291600dadedf', resource_group='titanic-rg-v1'), name=titanic_model, id=titanic_model:5, version=5, tags={'data': 'titanic', 'model': 'classification'}, properties={}),\n Model(workspace=Workspace.create(name='titanic-aml-v1', subscription_id='ffe8e859-0cfb-4c23-8708-291600dadedf', resource_group='titanic-rg-v1'), name=titanic_model, id=titanic_model:4, version=4, tags={'data': 'titanic', 'model': 'classification'}, properties={}),\n Model(workspace=Workspace.create(name='titanic-aml-v1', subscription_id='ffe8e859-0cfb-4c23-8708-291600dadedf', resource_group='titanic-rg-v1'), name=titanic_model, id=titanic_model:3, version=3, tags={'data': 'titanic', 'model': 'classification'}, properties={}),\n Model(workspace=Workspace.create(name='titanic-aml-v1', subscription_id='ffe8e859-0cfb-4c23-8708-291600dadedf', resource_group='titanic-rg-v1'), name=titanic_model, id=titanic_model:2, version=2, tags={'data': 'titanic', 'model': 'classification'}, properties={}),\n Model(workspace=Workspace.create(name='titanic-aml-v1', subscription_id='ffe8e859-0cfb-4c23-8708-291600dadedf', resource_group='titanic-rg-v1'), name=titanic_model, id=titanic_model:1, version=1, tags={'data': 'titanic', 'model': 'classification'}, properties={})]"
          },
          "metadata": {}
        }
      ],
      "execution_count": 19,
      "metadata": {},
      "id": "cb4f589a-52e2-44e0-ba12-9ba99f218858"
    },
    {
      "cell_type": "code",
      "source": [
        "Model.get_model_path(\n",
        "        model_name=\"titanic_model\", version=9)"
      ],
      "outputs": [
        {
          "output_type": "stream",
          "name": "stderr",
          "text": "Model titanic_model not found in cache at azureml-models or in current working directory /mnt/batch/tasks/shared/LS_root/mounts/clusters/comp1812/code. For more info, set logging level to DEBUG.\n\n"
        },
        {
          "output_type": "error",
          "ename": "WebserviceException",
          "evalue": "WebserviceException:\n\tMessage: Model titanic_model not found in cache at azureml-models or in current working directory /mnt/batch/tasks/shared/LS_root/mounts/clusters/comp1812/code. For more info, set logging level to DEBUG.\n\tInnerException None\n\tErrorResponse \n{\n    \"error\": {\n        \"message\": \"Model titanic_model not found in cache at azureml-models or in current working directory /mnt/batch/tasks/shared/LS_root/mounts/clusters/comp1812/code. For more info, set logging level to DEBUG.\"\n    }\n}",
          "traceback": [
            "\u001b[0;31m---------------------------------------------------------------------------\u001b[0m",
            "\u001b[0;31mModelNotFoundException\u001b[0m                    Traceback (most recent call last)",
            "File \u001b[0;32m/anaconda/envs/azureml_py38/lib/python3.8/site-packages/azureml/core/model.py:796\u001b[0m, in \u001b[0;36mModel.get_model_path\u001b[0;34m(model_name, version, _workspace)\u001b[0m\n\u001b[1;32m    795\u001b[0m \u001b[38;5;28;01mtry\u001b[39;00m:\n\u001b[0;32m--> 796\u001b[0m     \u001b[38;5;28;01mreturn\u001b[39;00m \u001b[43mModel\u001b[49m\u001b[38;5;241;43m.\u001b[39;49m\u001b[43m_get_model_path_local\u001b[49m\u001b[43m(\u001b[49m\u001b[43mmodel_name\u001b[49m\u001b[43m,\u001b[49m\u001b[43m \u001b[49m\u001b[43mversion\u001b[49m\u001b[43m)\u001b[49m\n\u001b[1;32m    797\u001b[0m \u001b[38;5;28;01mexcept\u001b[39;00m ModelNotFoundException \u001b[38;5;28;01mas\u001b[39;00m ee:\n",
            "File \u001b[0;32m/anaconda/envs/azureml_py38/lib/python3.8/site-packages/azureml/core/model.py:828\u001b[0m, in \u001b[0;36mModel._get_model_path_local\u001b[0;34m(model_name, version)\u001b[0m\n\u001b[1;32m    827\u001b[0m \u001b[38;5;28;01mif\u001b[39;00m \u001b[38;5;129;01mnot\u001b[39;00m os\u001b[38;5;241m.\u001b[39mpath\u001b[38;5;241m.\u001b[39mexists(candidate_model_path):\n\u001b[0;32m--> 828\u001b[0m     \u001b[38;5;28;01mreturn\u001b[39;00m \u001b[43mModel\u001b[49m\u001b[38;5;241;43m.\u001b[39;49m\u001b[43m_get_model_path_local_from_root\u001b[49m\u001b[43m(\u001b[49m\u001b[43mmodel_name\u001b[49m\u001b[43m)\u001b[49m\n\u001b[1;32m    829\u001b[0m \u001b[38;5;28;01melse\u001b[39;00m:\n\u001b[1;32m    830\u001b[0m     \u001b[38;5;66;03m# Probing azureml-models/<name> exists, probing version\u001b[39;00m\n",
            "File \u001b[0;32m/anaconda/envs/azureml_py38/lib/python3.8/site-packages/azureml/core/model.py:870\u001b[0m, in \u001b[0;36mModel._get_model_path_local_from_root\u001b[0;34m(model_name)\u001b[0m\n\u001b[1;32m    869\u001b[0m     \u001b[38;5;28;01mreturn\u001b[39;00m candidate_model_path\n\u001b[0;32m--> 870\u001b[0m \u001b[38;5;28;01mraise\u001b[39;00m ModelNotFoundException(\u001b[38;5;124m\"\u001b[39m\u001b[38;5;124mModel \u001b[39m\u001b[38;5;132;01m{}\u001b[39;00m\u001b[38;5;124m not found in cache at \u001b[39m\u001b[38;5;132;01m{}\u001b[39;00m\u001b[38;5;124m or in current working directory \u001b[39m\u001b[38;5;132;01m{}\u001b[39;00m\u001b[38;5;124m. \u001b[39m\u001b[38;5;124m\"\u001b[39m\n\u001b[1;32m    871\u001b[0m                              \u001b[38;5;124m\"\u001b[39m\u001b[38;5;124mFor more info, set logging level to DEBUG.\u001b[39m\u001b[38;5;124m\"\u001b[39m\u001b[38;5;241m.\u001b[39mformat(model_name, MODELS_DIR,\n\u001b[1;32m    872\u001b[0m                                                                                  os\u001b[38;5;241m.\u001b[39mgetcwd()))\n",
            "\u001b[0;31mModelNotFoundException\u001b[0m: ModelNotFoundException:\n\tMessage: Model titanic_model not found in cache at azureml-models or in current working directory /mnt/batch/tasks/shared/LS_root/mounts/clusters/comp1812/code. For more info, set logging level to DEBUG.\n\tInnerException None\n\tErrorResponse \n{\n    \"error\": {\n        \"message\": \"Model titanic_model not found in cache at azureml-models or in current working directory /mnt/batch/tasks/shared/LS_root/mounts/clusters/comp1812/code. For more info, set logging level to DEBUG.\"\n    }\n}",
            "\nDuring handling of the above exception, another exception occurred:\n",
            "\u001b[0;31mWebserviceException\u001b[0m                       Traceback (most recent call last)",
            "Cell \u001b[0;32mIn [20], line 1\u001b[0m\n\u001b[0;32m----> 1\u001b[0m \u001b[43mModel\u001b[49m\u001b[38;5;241;43m.\u001b[39;49m\u001b[43mget_model_path\u001b[49m\u001b[43m(\u001b[49m\n\u001b[1;32m      2\u001b[0m \u001b[43m        \u001b[49m\u001b[43mmodel_name\u001b[49m\u001b[38;5;241;43m=\u001b[39;49m\u001b[38;5;124;43m\"\u001b[39;49m\u001b[38;5;124;43mtitanic_model\u001b[39;49m\u001b[38;5;124;43m\"\u001b[39;49m\u001b[43m,\u001b[49m\u001b[43m \u001b[49m\u001b[43mversion\u001b[49m\u001b[38;5;241;43m=\u001b[39;49m\u001b[38;5;241;43m9\u001b[39;49m\u001b[43m)\u001b[49m\n",
            "File \u001b[0;32m/anaconda/envs/azureml_py38/lib/python3.8/site-packages/azureml/core/model.py:802\u001b[0m, in \u001b[0;36mModel.get_model_path\u001b[0;34m(model_name, version, _workspace)\u001b[0m\n\u001b[1;32m    800\u001b[0m             module_logger\u001b[38;5;241m.\u001b[39mdebug(\u001b[38;5;124m\"\u001b[39m\u001b[38;5;124mGetting model from remote\u001b[39m\u001b[38;5;124m\"\u001b[39m)\n\u001b[1;32m    801\u001b[0m             \u001b[38;5;28;01mreturn\u001b[39;00m Model\u001b[38;5;241m.\u001b[39m_get_model_path_remote(model_name, version, active_workspace)\n\u001b[0;32m--> 802\u001b[0m         \u001b[38;5;28;01mraise\u001b[39;00m WebserviceException(ee\u001b[38;5;241m.\u001b[39mmessage, logger\u001b[38;5;241m=\u001b[39mmodule_logger)\n\u001b[1;32m    803\u001b[0m \u001b[38;5;28;01melse\u001b[39;00m:\n\u001b[1;32m    804\u001b[0m     \u001b[38;5;28;01mif\u001b[39;00m active_workspace \u001b[38;5;129;01mis\u001b[39;00m \u001b[38;5;129;01mnot\u001b[39;00m \u001b[38;5;28;01mNone\u001b[39;00m:\n",
            "\u001b[0;31mWebserviceException\u001b[0m: WebserviceException:\n\tMessage: Model titanic_model not found in cache at azureml-models or in current working directory /mnt/batch/tasks/shared/LS_root/mounts/clusters/comp1812/code. For more info, set logging level to DEBUG.\n\tInnerException None\n\tErrorResponse \n{\n    \"error\": {\n        \"message\": \"Model titanic_model not found in cache at azureml-models or in current working directory /mnt/batch/tasks/shared/LS_root/mounts/clusters/comp1812/code. For more info, set logging level to DEBUG.\"\n    }\n}"
          ]
        }
      ],
      "execution_count": 20,
      "metadata": {},
      "id": "07494766-03cb-47ed-b5a9-a0b6d758e36d"
    },
    {
      "cell_type": "code",
      "source": [
        "model_path = os.path.join(os.getenv('AZUREML_MODEL_DIR'), 'titanic_model.pkl')"
      ],
      "outputs": [
        {
          "output_type": "error",
          "ename": "TypeError",
          "evalue": "expected str, bytes or os.PathLike object, not NoneType",
          "traceback": [
            "\u001b[0;31m---------------------------------------------------------------------------\u001b[0m",
            "\u001b[0;31mTypeError\u001b[0m                                 Traceback (most recent call last)",
            "Cell \u001b[0;32mIn [22], line 1\u001b[0m\n\u001b[0;32m----> 1\u001b[0m model_path \u001b[38;5;241m=\u001b[39m \u001b[43mos\u001b[49m\u001b[38;5;241;43m.\u001b[39;49m\u001b[43mpath\u001b[49m\u001b[38;5;241;43m.\u001b[39;49m\u001b[43mjoin\u001b[49m\u001b[43m(\u001b[49m\u001b[43mos\u001b[49m\u001b[38;5;241;43m.\u001b[39;49m\u001b[43mgetenv\u001b[49m\u001b[43m(\u001b[49m\u001b[38;5;124;43m'\u001b[39;49m\u001b[38;5;124;43mAZUREML_MODEL_DIR\u001b[39;49m\u001b[38;5;124;43m'\u001b[39;49m\u001b[43m)\u001b[49m\u001b[43m,\u001b[49m\u001b[43m \u001b[49m\u001b[38;5;124;43m'\u001b[39;49m\u001b[38;5;124;43mtitanic_model.pkl\u001b[39;49m\u001b[38;5;124;43m'\u001b[39;49m\u001b[43m)\u001b[49m\n",
            "File \u001b[0;32m/anaconda/envs/azureml_py38/lib/python3.8/posixpath.py:76\u001b[0m, in \u001b[0;36mjoin\u001b[0;34m(a, *p)\u001b[0m\n\u001b[1;32m     71\u001b[0m \u001b[38;5;28;01mdef\u001b[39;00m \u001b[38;5;21mjoin\u001b[39m(a, \u001b[38;5;241m*\u001b[39mp):\n\u001b[1;32m     72\u001b[0m     \u001b[38;5;124;03m\"\"\"Join two or more pathname components, inserting '/' as needed.\u001b[39;00m\n\u001b[1;32m     73\u001b[0m \u001b[38;5;124;03m    If any component is an absolute path, all previous path components\u001b[39;00m\n\u001b[1;32m     74\u001b[0m \u001b[38;5;124;03m    will be discarded.  An empty last part will result in a path that\u001b[39;00m\n\u001b[1;32m     75\u001b[0m \u001b[38;5;124;03m    ends with a separator.\"\"\"\u001b[39;00m\n\u001b[0;32m---> 76\u001b[0m     a \u001b[38;5;241m=\u001b[39m \u001b[43mos\u001b[49m\u001b[38;5;241;43m.\u001b[39;49m\u001b[43mfspath\u001b[49m\u001b[43m(\u001b[49m\u001b[43ma\u001b[49m\u001b[43m)\u001b[49m\n\u001b[1;32m     77\u001b[0m     sep \u001b[38;5;241m=\u001b[39m _get_sep(a)\n\u001b[1;32m     78\u001b[0m     path \u001b[38;5;241m=\u001b[39m a\n",
            "\u001b[0;31mTypeError\u001b[0m: expected str, bytes or os.PathLike object, not NoneType"
          ]
        }
      ],
      "execution_count": 22,
      "metadata": {},
      "id": "e8bee53e-470a-405e-be19-b68c9dd83e24"
    },
    {
      "cell_type": "code",
      "source": [],
      "outputs": [],
      "execution_count": 24,
      "metadata": {},
      "id": "5731335f-f054-474a-8e1f-31dfca972463"
    },
    {
      "cell_type": "code",
      "source": [],
      "outputs": [],
      "execution_count": null,
      "metadata": {},
      "id": "9c3170fd-7a63-429b-8129-842733e0fbed"
    }
  ],
  "metadata": {
    "kernelspec": {
      "name": "python3",
      "language": "python",
      "display_name": "Python 3 (ipykernel)"
    },
    "language_info": {
      "name": "python",
      "version": "3.8.5",
      "mimetype": "text/x-python",
      "codemirror_mode": {
        "name": "ipython",
        "version": 3
      },
      "pygments_lexer": "ipython3",
      "nbconvert_exporter": "python",
      "file_extension": ".py"
    },
    "kernel_info": {
      "name": "python3"
    },
    "nteract": {
      "version": "nteract-front-end@1.0.0"
    }
  },
  "nbformat": 4,
  "nbformat_minor": 5
}